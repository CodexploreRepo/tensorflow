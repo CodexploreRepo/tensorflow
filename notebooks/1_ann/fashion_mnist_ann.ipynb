{
  "cells": [
    {
      "cell_type": "markdown",
      "metadata": {
        "id": "1AoycRAwcqe7"
      },
      "source": [
        "#Fashion MNIST \n",
        "- **Fashion MNIST dataset**: Fashion-MNIST is a dataset of Zalando's article images—consisting of a training set of 60,000 examples and a test set of 10,000 examples. Each example is a 28x28 grayscale image, associated with a label from 10 classes. Zalando intends Fashion-MNIST to serve as a direct drop-in replacement for the original MNIST dataset for benchmarking machine learning algorithms. It shares the same image size and structure of training and testing splits.\n",
        "- **Goal**: classify grayscale Fashion-MNIST images into 10 classes\n",
        "- **[Keras MNIST](https://keras.io/examples/vision/mnist_convnet/)**"
      ]
    },
    {
      "cell_type": "code",
      "execution_count": 1,
      "metadata": {
        "colab": {
          "base_uri": "https://localhost:8080/"
        },
        "id": "y_i9ICV7cVwi",
        "outputId": "36af5bbc-29d2-46d1-a187-fae5f63d9b7d"
      },
      "outputs": [
        {
          "output_type": "stream",
          "name": "stdout",
          "text": [
            "Tensorflow: 2.11.0\n",
            "Keras: 2.11.0\n"
          ]
        }
      ],
      "source": [
        "# https://www.tensorflow.org/guide/keras/overview\n",
        "import tensorflow as tf\n",
        "\n",
        "from tensorflow import keras\n",
        "from tensorflow.keras import layers\n",
        "\n",
        "print(f\"Tensorflow: {tf.__version__}\\nKeras: {keras.__version__}\")"
      ]
    },
    {
      "cell_type": "code",
      "execution_count": 2,
      "metadata": {
        "id": "uQHoWYP-jPDr"
      },
      "outputs": [],
      "source": [
        "import matplotlib.pyplot as plt\n",
        "import pandas as pd\n",
        "import numpy as np\n",
        "import random"
      ]
    },
    {
      "cell_type": "code",
      "execution_count": 3,
      "metadata": {
        "id": "jqApXCas7ZZ8"
      },
      "outputs": [],
      "source": [
        "np.random.seed(2023)"
      ]
    },
    {
      "cell_type": "code",
      "source": [
        "class_names = [\"T-shirt/top\", \"Trouser\", \"Pullover\", \"Dress\", \"Coat\",\n",
        "               \"Sandal\", \"Shirt\", \"Sneaker\", \"Bag\", \"Ankle boot\"]\n",
        "class_nums = len(class_names)\n",
        "print(class_nums)\n",
        "input_shape = (28,28,1)"
      ],
      "metadata": {
        "colab": {
          "base_uri": "https://localhost:8080/"
        },
        "id": "soDIEhaoodLd",
        "outputId": "45a0b7fc-ff13-42b6-ba71-f5247418eab5"
      },
      "execution_count": 4,
      "outputs": [
        {
          "output_type": "stream",
          "name": "stdout",
          "text": [
            "10\n"
          ]
        }
      ]
    },
    {
      "cell_type": "markdown",
      "metadata": {
        "id": "MHH2vfcejLOS"
      },
      "source": [
        "# 1. Load Data"
      ]
    },
    {
      "cell_type": "code",
      "execution_count": 5,
      "metadata": {
        "id": "NGRCozCBcskZ",
        "colab": {
          "base_uri": "https://localhost:8080/"
        },
        "outputId": "2f21b552-d04d-496e-829b-bbdb9c720136"
      },
      "outputs": [
        {
          "output_type": "stream",
          "name": "stdout",
          "text": [
            "Downloading data from https://storage.googleapis.com/tensorflow/tf-keras-datasets/train-labels-idx1-ubyte.gz\n",
            "29515/29515 [==============================] - 0s 0us/step\n",
            "Downloading data from https://storage.googleapis.com/tensorflow/tf-keras-datasets/train-images-idx3-ubyte.gz\n",
            "26421880/26421880 [==============================] - 0s 0us/step\n",
            "Downloading data from https://storage.googleapis.com/tensorflow/tf-keras-datasets/t10k-labels-idx1-ubyte.gz\n",
            "5148/5148 [==============================] - 0s 0us/step\n",
            "Downloading data from https://storage.googleapis.com/tensorflow/tf-keras-datasets/t10k-images-idx3-ubyte.gz\n",
            "4422102/4422102 [==============================] - 0s 0us/step\n"
          ]
        }
      ],
      "source": [
        "(X_train, y_train), (X_test, y_test) = keras.datasets.fashion_mnist.load_data()"
      ]
    },
    {
      "cell_type": "code",
      "execution_count": 6,
      "metadata": {
        "colab": {
          "base_uri": "https://localhost:8080/"
        },
        "id": "AtwvirdEife0",
        "outputId": "31d85d7b-324c-4254-e9c1-01ea04cb293a"
      },
      "outputs": [
        {
          "output_type": "stream",
          "name": "stdout",
          "text": [
            "<class 'numpy.ndarray'> uint8\n"
          ]
        }
      ],
      "source": [
        "print(type(X_train), X_train.dtype)"
      ]
    },
    {
      "cell_type": "code",
      "execution_count": 7,
      "metadata": {
        "colab": {
          "base_uri": "https://localhost:8080/",
          "height": 298
        },
        "id": "-8VdsEfgjRvX",
        "outputId": "442ec147-0a51-4709-d93a-f182bcd5a78d"
      },
      "outputs": [
        {
          "output_type": "display_data",
          "data": {
            "text/plain": [
              "<Figure size 576x288 with 8 Axes>"
            ],
            "image/png": "[encoded data removed]"
          },
          "metadata": {}
        }
      ],
      "source": [
        "from typing import Optional\n",
        "def plot_data(x_data: np.ndarray, y_data: np.ndarray, y_proba: Optional[np.ndarray]=None) -> None:\n",
        "  nrows, ncols = 2, 4\n",
        "  fig, axes = plt.subplots(nrows=nrows, ncols=ncols, figsize=(8,4))\n",
        "  len_x = x_data.shape[0]\n",
        "  for idx in range(nrows*ncols):\n",
        "    ax = axes[idx // ncols, idx % ncols]\n",
        "    img_idx = random.randint(0, len_x)\n",
        "    \n",
        "    ax.imshow(x_data[img_idx], cmap='gray')\n",
        "    \n",
        "    ax.set(xticks=[], yticks=[])\n",
        "    color = 'green'\n",
        "    true_label_str = f\"True: {class_names[y_data[img_idx]]}\"\n",
        "    if y_proba is not None: \n",
        "      predicted_idx = np.argmax(y_proba[img_idx])\n",
        "      predicted_label = class_names[predicted_idx]\n",
        "      color = 'red' if predicted_idx != y_data[img_idx] else color\n",
        "      predicted_label_str = f\"\\nPredicted: {predicted_label}\"\n",
        "    \n",
        "    img_title = true_label_str if y_proba is None else true_label_str + predicted_label_str\n",
        "    \n",
        "    ax.set_xlabel(img_title, color=color, fontsize=12)\n",
        "  \n",
        "  plt.tight_layout()\n",
        "  plt.show()\n",
        "\n",
        "plot_data(X_train, y_train)"
      ]
    },
    {
      "cell_type": "markdown",
      "metadata": {
        "id": "u6tirayguW-U"
      },
      "source": [
        "# 2. Image Pre-processing\n",
        "- Reshaping it into the shape the model expects and scaling it so that all values are in the `[0, 1]` interval\n",
        "- Transform from `unit8` it into a `float32`"
      ]
    },
    {
      "cell_type": "code",
      "execution_count": 8,
      "metadata": {
        "colab": {
          "base_uri": "https://localhost:8080/"
        },
        "id": "xH0FlQB5uZTQ",
        "outputId": "1bb5d134-3e03-472c-eb55-d51fcdc5b616"
      },
      "outputs": [
        {
          "output_type": "stream",
          "name": "stdout",
          "text": [
            "x_train shape: (60000, 28, 28, 1)\n",
            "60000 train samples\n",
            "10000 test samples\n"
          ]
        }
      ],
      "source": [
        "# Convert to float32 & Scale images to the [0, 1] range for training\n",
        "X_train = X_train.astype(\"float32\") / 255\n",
        "X_test = X_test.astype(\"float32\") / 255\n",
        "\n",
        "# Make sure images have shape (60000, 28, 28) => (60000, 28, 28, 1)\n",
        "X_train = np.expand_dims(X_train, axis=-1)\n",
        "X_test = np.expand_dims(X_test, axis=-1)\n",
        "print(\"x_train shape:\", X_train.shape)\n",
        "print(X_train.shape[0], \"train samples\")\n",
        "print(X_test.shape[0], \"test samples\")"
      ]
    },
    {
      "cell_type": "code",
      "execution_count": 9,
      "metadata": {
        "id": "f77bXlMp8qyv"
      },
      "outputs": [],
      "source": [
        "# convert class vectors to binary class matrices: 1 => [0 1 0 0 ...] \n",
        "# 1              => sparse_categorical_crossentropy\n",
        "# [0 1 0 0 ...]  => categorical_crossentropy\n",
        "y_train_label = keras.utils.to_categorical(y_train, class_nums)\n",
        "y_test_label = keras.utils.to_categorical(y_test, class_nums)"
      ]
    },
    {
      "cell_type": "markdown",
      "metadata": {
        "id": "B6eRWMMr3GER"
      },
      "source": [
        "# 3. Network Architecture\n",
        "- For  **binary classification** or multilabel binary classification, then we would use the `\"sigmoid\"` (i.e., logistic) activation function in the output layer instead of the `\"softmax\"` activation function, and we would use the `\"binary_crossentropy\"` loss.\n",
        "- Loss function:\n",
        "  - `\"sparse_categorical_crossentropy\"` loss because we have sparse labels: (i.e., for each instance, there is just a target class index, from 0 to 9 in this case), and the classes are exclusive. \n",
        "  - `\"categorical_crossentropy\"`: If instead we had one target probability per class for each instance (such as one-hot vectors, e.g. [0., 0., 0., 1., 0., 0., 0., 0., 0., 0.] to represent class 3), then we would need to use the \"categorical_crossentropy\" loss instead. "
      ]
    },
    {
      "cell_type": "code",
      "execution_count": 10,
      "metadata": {
        "id": "VHKhR8_G3LPc"
      },
      "outputs": [],
      "source": [
        "model = keras.models.Sequential([\n",
        "    layers.Flatten(input_shape=input_shape), #to convert each input image into a 1D array\n",
        "    layers.Dense(512, activation=\"relu\"),\n",
        "    layers.Dense(256, activation=\"relu\"),\n",
        "    layers.Dense(class_nums, activation=\"softmax\")\n",
        "])\n",
        "\n",
        "# model = keras.Sequential(\n",
        "#     [\n",
        "#         keras.Input(shape=input_shape),\n",
        "#         layers.Conv2D(32, kernel_size=(3, 3), activation=\"relu\"), # ConVo needs (28,28,1)\n",
        "#         layers.MaxPooling2D(pool_size=(2, 2)),\n",
        "#         layers.Conv2D(64, kernel_size=(3, 3), activation=\"relu\"),\n",
        "#         layers.MaxPooling2D(pool_size=(2, 2)),\n",
        "#         layers.Flatten(),\n",
        "#         layers.Dropout(0.5),\n",
        "#         layers.Dense(class_nums, activation=\"softmax\"),\n",
        "#     ]\n",
        "# )\n",
        "\n",
        "model.compile(optimizer='rmsprop',\n",
        "              loss='categorical_crossentropy',\n",
        "              metrics=['accuracy'])"
      ]
    },
    {
      "cell_type": "code",
      "execution_count": 11,
      "metadata": {
        "colab": {
          "base_uri": "https://localhost:8080/"
        },
        "id": "T-rAq7qx9vT7",
        "outputId": "ebc37aaa-861c-4b78-8451-96dc1e298f8d"
      },
      "outputs": [
        {
          "output_type": "stream",
          "name": "stdout",
          "text": [
            "Model: \"sequential\"\n",
            "_________________________________________________________________\n",
            " Layer (type)                Output Shape              Param #   \n",
            "=================================================================\n",
            " flatten (Flatten)           (None, 784)               0         \n",
            "                                                                 \n",
            " dense (Dense)               (None, 512)               401920    \n",
            "                                                                 \n",
            " dense_1 (Dense)             (None, 256)               131328    \n",
            "                                                                 \n",
            " dense_2 (Dense)             (None, 10)                2570      \n",
            "                                                                 \n",
            "=================================================================\n",
            "Total params: 535,818\n",
            "Trainable params: 535,818\n",
            "Non-trainable params: 0\n",
            "_________________________________________________________________\n"
          ]
        }
      ],
      "source": [
        "model.summary()"
      ]
    },
    {
      "cell_type": "code",
      "execution_count": 12,
      "metadata": {
        "colab": {
          "base_uri": "https://localhost:8080/"
        },
        "id": "vYa_2ezs7dVu",
        "outputId": "b94a3959-7d76-409d-c462-e0f6dc93dd3e"
      },
      "outputs": [
        {
          "output_type": "stream",
          "name": "stdout",
          "text": [
            "Epoch 1/10\n",
            "422/422 [==============================] - 16s 36ms/step - loss: 0.5609 - accuracy: 0.7956 - val_loss: 0.4343 - val_accuracy: 0.8333\n",
            "Epoch 2/10\n",
            "422/422 [==============================] - 11s 27ms/step - loss: 0.3816 - accuracy: 0.8589 - val_loss: 0.3735 - val_accuracy: 0.8620\n",
            "Epoch 3/10\n",
            "422/422 [==============================] - 6s 15ms/step - loss: 0.3359 - accuracy: 0.8752 - val_loss: 0.3677 - val_accuracy: 0.8697\n",
            "Epoch 4/10\n",
            "422/422 [==============================] - 7s 17ms/step - loss: 0.3101 - accuracy: 0.8841 - val_loss: 0.3394 - val_accuracy: 0.8787\n",
            "Epoch 5/10\n",
            "422/422 [==============================] - 6s 15ms/step - loss: 0.2896 - accuracy: 0.8912 - val_loss: 0.3178 - val_accuracy: 0.8830\n",
            "Epoch 6/10\n",
            "422/422 [==============================] - 7s 18ms/step - loss: 0.2725 - accuracy: 0.8968 - val_loss: 0.3877 - val_accuracy: 0.8507\n",
            "Epoch 7/10\n",
            "422/422 [==============================] - 6s 15ms/step - loss: 0.2586 - accuracy: 0.9028 - val_loss: 0.3431 - val_accuracy: 0.8815\n",
            "Epoch 8/10\n",
            "422/422 [==============================] - 7s 17ms/step - loss: 0.2498 - accuracy: 0.9060 - val_loss: 0.3643 - val_accuracy: 0.8792\n",
            "Epoch 9/10\n",
            "422/422 [==============================] - 6s 15ms/step - loss: 0.2380 - accuracy: 0.9106 - val_loss: 0.3607 - val_accuracy: 0.8827\n",
            "Epoch 10/10\n",
            "422/422 [==============================] - 7s 17ms/step - loss: 0.2275 - accuracy: 0.9132 - val_loss: 0.3604 - val_accuracy: 0.8832\n"
          ]
        }
      ],
      "source": [
        "\"\"\"\n",
        "## Train the model\n",
        "\"\"\"\n",
        "\n",
        "epochs = 10\n",
        "batch_size = 128\n",
        "history = model.fit(X_train, \n",
        "                    y_train_label, \n",
        "                    epochs=epochs, \n",
        "                    batch_size=batch_size,\n",
        "                    validation_split=0.1,\n",
        "                    )"
      ]
    },
    {
      "cell_type": "code",
      "execution_count": 21,
      "metadata": {
        "id": "bG_U6maGAwY7"
      },
      "outputs": [],
      "source": [
        "history_dict = history.history"
      ]
    },
    {
      "cell_type": "code",
      "source": [
        "train_loss, val_loss = history_dict['loss'], history_dict['val_loss']\n",
        "train_acc, val_acc = history_dict['accuracy'], history_dict['val_accuracy']"
      ],
      "metadata": {
        "id": "SlJS0MODqZZk"
      },
      "execution_count": 38,
      "outputs": []
    },
    {
      "cell_type": "code",
      "source": [
        "fig, (ax1, ax2) = plt.subplots(1,2, figsize=(15,5))\n",
        "epoch_runs = [i+1 for i in range(epochs)]\n",
        "ax1.plot(epoch_runs, train_loss, label=\"Training Loss\")\n",
        "ax1.plot(epoch_runs, val_loss, marker='o', label=\"Val Loss\")\n",
        "ax1.set(title='Training and Validation Loss', xlabel='Epochs', ylabel='Loss')\n",
        "ax1.legend()\n",
        "\n",
        "ax2.plot(epoch_runs, train_acc, label=\"Training Acc\")\n",
        "ax2.plot(epoch_runs, val_acc, marker='o', label=\"Val Acc\")\n",
        "ax2.set(title='Training and Validation Accuracy', xlabel='Epochs', ylabel='Acc', ylim=[0.6, 1])\n",
        "#  plt.gca().set_ylim(0,1) #set vertical range to [0-1]\n",
        "plt.show()"
      ],
      "metadata": {
        "colab": {
          "base_uri": "https://localhost:8080/",
          "height": 350
        },
        "id": "4uJPiYyEq05g",
        "outputId": "f6fae8de-ad2a-4c0e-9f8c-5e1819479315"
      },
      "execution_count": 46,
      "outputs": [
        {
          "output_type": "display_data",
          "data": {
            "text/plain": [
              "<Figure size 1080x360 with 2 Axes>"
            ],
            "image/png": "[encoded data removed]"
          },
          "metadata": {
            "needs_background": "light"
          }
        }
      ]
    },
    {
      "cell_type": "markdown",
      "source": [
        "# 4. Model Evaluation"
      ],
      "metadata": {
        "id": "FACLgFtewwd_"
      }
    },
    {
      "cell_type": "code",
      "execution_count": 15,
      "metadata": {
        "id": "kvw-a95R-UcP",
        "colab": {
          "base_uri": "https://localhost:8080/"
        },
        "outputId": "a1901f7c-2be5-4f94-d274-2927415af9e9"
      },
      "outputs": [
        {
          "output_type": "stream",
          "name": "stdout",
          "text": [
            "Test loss: 0.37464776635169983\n",
            "Test accuracy: 0.8831999897956848\n"
          ]
        }
      ],
      "source": [
        "\"\"\"\n",
        "## Evaluate the trained model\n",
        "\"\"\"\n",
        "\n",
        "score = model.evaluate(X_test, y_test_label, verbose=0)\n",
        "print(\"Test loss:\", score[0])\n",
        "print(\"Test accuracy:\", score[1])"
      ]
    },
    {
      "cell_type": "markdown",
      "source": [
        "# 5. Prediction"
      ],
      "metadata": {
        "id": "_sb1EYjH327Z"
      }
    },
    {
      "cell_type": "code",
      "source": [
        "X_sample = X_test[:3]\n",
        "y_proba = model.predict(X_sample)\n",
        "pd.DataFrame([[*y_p, class_names[y_l]] for y_p, y_l in zip(y_proba.round(3), y_test[:3])], \n",
        "              columns=[*class_names, 'Label'])\n"
      ],
      "metadata": {
        "colab": {
          "base_uri": "https://localhost:8080/",
          "height": 161
        },
        "id": "GZG4cM5uw7ao",
        "outputId": "4a78905c-7f14-4c42-fc4b-5be0c73de33d"
      },
      "execution_count": 16,
      "outputs": [
        {
          "output_type": "stream",
          "name": "stdout",
          "text": [
            "1/1 [==============================] - 0s 104ms/step\n"
          ]
        },
        {
          "output_type": "execute_result",
          "data": {
            "text/plain": [
              "   T-shirt/top  Trouser  Pullover  Dress  Coat  Sandal  Shirt  Sneaker  Bag  \\\n",
              "0          0.0      0.0       0.0    0.0   0.0     0.0    0.0    0.001  0.0   \n",
              "1          0.0      0.0       1.0    0.0   0.0     0.0    0.0    0.000  0.0   \n",
              "2          0.0      1.0       0.0    0.0   0.0     0.0    0.0    0.000  0.0   \n",
              "\n",
              "   Ankle boot       Label  \n",
              "0       0.999  Ankle boot  \n",
              "1       0.000    Pullover  \n",
              "2       0.000     Trouser  "
            ],
            "text/html": [
              "\n",
              "  <div id=\"df-48207971-c3e9-4a31-84c2-5346d4de42fc\">\n",
              "    <div class=\"colab-df-container\">\n",
              "      <div>\n",
              "<style scoped>\n",
              "    .dataframe tbody tr th:only-of-type {\n",
              "        vertical-align: middle;\n",
              "    }\n",
              "\n",
              "    .dataframe tbody tr th {\n",
              "        vertical-align: top;\n",
              "    }\n",
              "\n",
              "    .dataframe thead th {\n",
              "        text-align: right;\n",
              "    }\n",
              "</style>\n",
              "<table border=\"1\" class=\"dataframe\">\n",
              "  <thead>\n",
              "    <tr style=\"text-align: right;\">\n",
              "      <th></th>\n",
              "      <th>T-shirt/top</th>\n",
              "      <th>Trouser</th>\n",
              "      <th>Pullover</th>\n",
              "      <th>Dress</th>\n",
              "      <th>Coat</th>\n",
              "      <th>Sandal</th>\n",
              "      <th>Shirt</th>\n",
              "      <th>Sneaker</th>\n",
              "      <th>Bag</th>\n",
              "      <th>Ankle boot</th>\n",
              "      <th>Label</th>\n",
              "    </tr>\n",
              "  </thead>\n",
              "  <tbody>\n",
              "    <tr>\n",
              "      <th>0</th>\n",
              "      <td>0.0</td>\n",
              "      <td>0.0</td>\n",
              "      <td>0.0</td>\n",
              "      <td>0.0</td>\n",
              "      <td>0.0</td>\n",
              "      <td>0.0</td>\n",
              "      <td>0.0</td>\n",
              "      <td>0.001</td>\n",
              "      <td>0.0</td>\n",
              "      <td>0.999</td>\n",
              "      <td>Ankle boot</td>\n",
              "    </tr>\n",
              "    <tr>\n",
              "      <th>1</th>\n",
              "      <td>0.0</td>\n",
              "      <td>0.0</td>\n",
              "      <td>1.0</td>\n",
              "      <td>0.0</td>\n",
              "      <td>0.0</td>\n",
              "      <td>0.0</td>\n",
              "      <td>0.0</td>\n",
              "      <td>0.000</td>\n",
              "      <td>0.0</td>\n",
              "      <td>0.000</td>\n",
              "      <td>Pullover</td>\n",
              "    </tr>\n",
              "    <tr>\n",
              "      <th>2</th>\n",
              "      <td>0.0</td>\n",
              "      <td>1.0</td>\n",
              "      <td>0.0</td>\n",
              "      <td>0.0</td>\n",
              "      <td>0.0</td>\n",
              "      <td>0.0</td>\n",
              "      <td>0.0</td>\n",
              "      <td>0.000</td>\n",
              "      <td>0.0</td>\n",
              "      <td>0.000</td>\n",
              "      <td>Trouser</td>\n",
              "    </tr>\n",
              "  </tbody>\n",
              "</table>\n",
              "</div>\n",
              "      <button class=\"colab-df-convert\" onclick=\"convertToInteractive('df-48207971-c3e9-4a31-84c2-5346d4de42fc')\"\n",
              "              title=\"Convert this dataframe to an interactive table.\"\n",
              "              style=\"display:none;\">\n",
              "        \n",
              "  <svg xmlns=\"http://www.w3.org/2000/svg\" height=\"24px\"viewBox=\"0 0 24 24\"\n",
              "       width=\"24px\">\n",
              "    <path d=\"M0 0h24v24H0V0z\" fill=\"none\"/>\n",
              "    <path d=\"M18.56 5.44l.94 2.06.94-2.06 2.06-.94-2.06-.94-.94-2.06-.94 2.06-2.06.94zm-11 1L8.5 8.5l.94-2.06 2.06-.94-2.06-.94L8.5 2.5l-.94 2.06-2.06.94zm10 10l.94 2.06.94-2.06 2.06-.94-2.06-.94-.94-2.06-.94 2.06-2.06.94z\"/><path d=\"M17.41 7.96l-1.37-1.37c-.4-.4-.92-.59-1.43-.59-.52 0-1.04.2-1.43.59L10.3 9.45l-7.72 7.72c-.78.78-.78 2.05 0 2.83L4 21.41c.39.39.9.59 1.41.59.51 0 1.02-.2 1.41-.59l7.78-7.78 2.81-2.81c.8-.78.8-2.07 0-2.86zM5.41 20L4 18.59l7.72-7.72 1.47 1.35L5.41 20z\"/>\n",
              "  </svg>\n",
              "      </button>\n",
              "      \n",
              "  <style>\n",
              "    .colab-df-container {\n",
              "      display:flex;\n",
              "      flex-wrap:wrap;\n",
              "      gap: 12px;\n",
              "    }\n",
              "\n",
              "    .colab-df-convert {\n",
              "      background-color: #E8F0FE;\n",
              "      border: none;\n",
              "      border-radius: 50%;\n",
              "      cursor: pointer;\n",
              "      display: none;\n",
              "      fill: #1967D2;\n",
              "      height: 32px;\n",
              "      padding: 0 0 0 0;\n",
              "      width: 32px;\n",
              "    }\n",
              "\n",
              "    .colab-df-convert:hover {\n",
              "      background-color: #E2EBFA;\n",
              "      box-shadow: 0px 1px 2px rgba(60, 64, 67, 0.3), 0px 1px 3px 1px rgba(60, 64, 67, 0.15);\n",
              "      fill: #174EA6;\n",
              "    }\n",
              "\n",
              "    [theme=dark] .colab-df-convert {\n",
              "      background-color: #3B4455;\n",
              "      fill: #D2E3FC;\n",
              "    }\n",
              "\n",
              "    [theme=dark] .colab-df-convert:hover {\n",
              "      background-color: #434B5C;\n",
              "      box-shadow: 0px 1px 3px 1px rgba(0, 0, 0, 0.15);\n",
              "      filter: drop-shadow(0px 1px 2px rgba(0, 0, 0, 0.3));\n",
              "      fill: #FFFFFF;\n",
              "    }\n",
              "  </style>\n",
              "\n",
              "      <script>\n",
              "        const buttonEl =\n",
              "          document.querySelector('#df-48207971-c3e9-4a31-84c2-5346d4de42fc button.colab-df-convert');\n",
              "        buttonEl.style.display =\n",
              "          google.colab.kernel.accessAllowed ? 'block' : 'none';\n",
              "\n",
              "        async function convertToInteractive(key) {\n",
              "          const element = document.querySelector('#df-48207971-c3e9-4a31-84c2-5346d4de42fc');\n",
              "          const dataTable =\n",
              "            await google.colab.kernel.invokeFunction('convertToInteractive',\n",
              "                                                     [key], {});\n",
              "          if (!dataTable) return;\n",
              "\n",
              "          const docLinkHtml = 'Like what you see? Visit the ' +\n",
              "            '<a target=\"_blank\" href=https://colab.research.google.com/notebooks/data_table.ipynb>data table notebook</a>'\n",
              "            + ' to learn more about interactive tables.';\n",
              "          element.innerHTML = '';\n",
              "          dataTable['output_type'] = 'display_data';\n",
              "          await google.colab.output.renderOutput(dataTable, element);\n",
              "          const docLink = document.createElement('div');\n",
              "          docLink.innerHTML = docLinkHtml;\n",
              "          element.appendChild(docLink);\n",
              "        }\n",
              "      </script>\n",
              "    </div>\n",
              "  </div>\n",
              "  "
            ]
          },
          "metadata": {},
          "execution_count": 16
        }
      ]
    },
    {
      "cell_type": "code",
      "source": [
        "predictions = np.argmax(y_proba, axis=1)\n",
        "print([class_names[pred_idx] for pred_idx in predictions])"
      ],
      "metadata": {
        "colab": {
          "base_uri": "https://localhost:8080/"
        },
        "id": "5m4Vi4kOxQpR",
        "outputId": "86ee0452-7fca-4cdf-8107-a2c9a04596a6"
      },
      "execution_count": 17,
      "outputs": [
        {
          "output_type": "stream",
          "name": "stdout",
          "text": [
            "['Ankle boot', 'Pullover', 'Trouser']\n"
          ]
        }
      ]
    },
    {
      "cell_type": "code",
      "source": [
        "y_proba = model.predict(X_test)"
      ],
      "metadata": {
        "colab": {
          "base_uri": "https://localhost:8080/"
        },
        "id": "hyUEajdj4OWa",
        "outputId": "4658e9fc-cdd1-4658-ba0f-bd00bd1ea7d1"
      },
      "execution_count": 18,
      "outputs": [
        {
          "output_type": "stream",
          "name": "stdout",
          "text": [
            "313/313 [==============================] - 1s 3ms/step\n"
          ]
        }
      ]
    },
    {
      "cell_type": "code",
      "source": [
        "plot_data(X_test, y_test, y_proba)"
      ],
      "metadata": {
        "colab": {
          "base_uri": "https://localhost:8080/",
          "height": 298
        },
        "id": "_mABfeS57L8W",
        "outputId": "1eae9c89-a5f3-4d66-f22e-ee86c4d7b02f"
      },
      "execution_count": 44,
      "outputs": [
        {
          "output_type": "display_data",
          "data": {
            "text/plain": [
              "<Figure size 576x288 with 8 Axes>"
            ],
            "image/png": "[encoded data removed]"
          },
          "metadata": {}
        }
      ]
    },
    {
      "cell_type": "code",
      "source": [
        "from sklearn.metrics import classification_report\n",
        "\n",
        "print(classification_report(y_test, np.argmax(y_proba, axis=1), target_names=class_names))"
      ],
      "metadata": {
        "colab": {
          "base_uri": "https://localhost:8080/"
        },
        "id": "zpn0KFyQ7ndI",
        "outputId": "dc756612-3aa3-4532-be76-4836008cb245"
      },
      "execution_count": 20,
      "outputs": [
        {
          "output_type": "stream",
          "name": "stdout",
          "text": [
            "              precision    recall  f1-score   support\n",
            "\n",
            " T-shirt/top       0.87      0.79      0.83      1000\n",
            "     Trouser       0.99      0.98      0.98      1000\n",
            "    Pullover       0.80      0.79      0.80      1000\n",
            "       Dress       0.78      0.94      0.85      1000\n",
            "        Coat       0.78      0.83      0.81      1000\n",
            "      Sandal       0.99      0.95      0.97      1000\n",
            "       Shirt       0.78      0.64      0.70      1000\n",
            "     Sneaker       0.94      0.98      0.96      1000\n",
            "         Bag       0.95      0.98      0.96      1000\n",
            "  Ankle boot       0.96      0.96      0.96      1000\n",
            "\n",
            "    accuracy                           0.88     10000\n",
            "   macro avg       0.88      0.88      0.88     10000\n",
            "weighted avg       0.88      0.88      0.88     10000\n",
            "\n"
          ]
        }
      ]
    }
  ],
  "metadata": {
    "colab": {
      "provenance": [],
      "toc_visible": true
    },
    "kernelspec": {
      "display_name": "Python 3",
      "name": "python3"
    },
    "language_info": {
      "name": "python"
    }
  },
  "nbformat": 4,
  "nbformat_minor": 0
}