{
  "cells": [
    {
      "cell_type": "markdown",
      "metadata": {
        "id": "1AoycRAwcqe7"
      },
      "source": [
        "# Fashion MNIST \n",
        "- **Fashion MNIST dataset**: Fashion-MNIST is a dataset of Zalando's article images—consisting of a training set of 60,000 examples and a test set of 10,000 examples. Each example is a 28x28 grayscale image, associated with a label from 10 classes. Zalando intends Fashion-MNIST to serve as a direct drop-in replacement for the original MNIST dataset for benchmarking machine learning algorithms. It shares the same image size and structure of training and testing splits.\n",
        "- **Goal**: classify grayscale Fashion-MNIST images into 10 classes\n",
        "- **[Keras MNIST](https://keras.io/examples/vision/mnist_convnet/)**"
      ]
    },
    {
      "cell_type": "code",
      "execution_count": 82,
      "metadata": {
        "colab": {
          "base_uri": "https://localhost:8080/"
        },
        "id": "y_i9ICV7cVwi",
        "outputId": "36af5bbc-29d2-46d1-a187-fae5f63d9b7d"
      },
      "outputs": [
        {
          "name": "stdout",
          "output_type": "stream",
          "text": [
            "Tensorflow: 2.14.0\n"
          ]
        }
      ],
      "source": [
        "# https://www.tensorflow.org/guide/keras/overview\n",
        "import tensorflow as tf\n",
        "\n",
        "from tensorflow import keras\n",
        "from tensorflow.keras import layers\n",
        "\n",
        "print(f\"Tensorflow: {tf.__version__}\")"
      ]
    },
    {
      "cell_type": "code",
      "execution_count": 83,
      "metadata": {
        "id": "uQHoWYP-jPDr"
      },
      "outputs": [],
      "source": [
        "import matplotlib.pyplot as plt\n",
        "import pandas as pd\n",
        "import numpy as np\n",
        "import random"
      ]
    },
    {
      "cell_type": "code",
      "execution_count": 84,
      "metadata": {
        "colab": {
          "base_uri": "https://localhost:8080/"
        },
        "id": "soDIEhaoodLd",
        "outputId": "45a0b7fc-ff13-42b6-ba71-f5247418eab5"
      },
      "outputs": [
        {
          "name": "stdout",
          "output_type": "stream",
          "text": [
            "10\n"
          ]
        }
      ],
      "source": [
        "class_names = [\"T-shirt/top\", \"Trouser\", \"Pullover\", \"Dress\", \"Coat\",\n",
        "               \"Sandal\", \"Shirt\", \"Sneaker\", \"Bag\", \"Ankle boot\"]\n",
        "class_nums = len(class_names)\n",
        "print(class_nums)"
      ]
    },
    {
      "cell_type": "markdown",
      "metadata": {
        "id": "MHH2vfcejLOS"
      },
      "source": [
        "## 1. Load Data"
      ]
    },
    {
      "cell_type": "code",
      "execution_count": 85,
      "metadata": {
        "colab": {
          "base_uri": "https://localhost:8080/"
        },
        "id": "NGRCozCBcskZ",
        "outputId": "2f21b552-d04d-496e-829b-bbdb9c720136"
      },
      "outputs": [],
      "source": [
        "(X_train, y_train), (X_test, y_test) = keras.datasets.fashion_mnist.load_data()"
      ]
    },
    {
      "cell_type": "code",
      "execution_count": 86,
      "metadata": {},
      "outputs": [
        {
          "name": "stdout",
          "output_type": "stream",
          "text": [
            "total 0\n",
            "drwxr-xr-x  6 codexplore  staff  192 Jan 22 16:13 \u001b[1m\u001b[36mfashion-mnist\u001b[m\u001b[m\n"
          ]
        }
      ],
      "source": [
        "!ls -l ~/.keras/datasets # data is download to keras's cache dir ~/.keras/datasets/"
      ]
    },
    {
      "cell_type": "code",
      "execution_count": 87,
      "metadata": {
        "colab": {
          "base_uri": "https://localhost:8080/"
        },
        "id": "AtwvirdEife0",
        "outputId": "31d85d7b-324c-4254-e9c1-01ea04cb293a"
      },
      "outputs": [
        {
          "data": {
            "text/plain": [
              "(numpy.ndarray, dtype('uint8'), (60000, 28, 28))"
            ]
          },
          "execution_count": 87,
          "metadata": {},
          "output_type": "execute_result"
        }
      ],
      "source": [
        "type(X_train), X_train.dtype, X_train.shape"
      ]
    },
    {
      "cell_type": "markdown",
      "metadata": {},
      "source": [
        "-  Every image is represented as a (28 × 28) array &  the pixel intensities are represented as integers (from 0 to 255) rather than floats (from 0.0 to 255.0). "
      ]
    },
    {
      "cell_type": "code",
      "execution_count": 88,
      "metadata": {
        "colab": {
          "base_uri": "https://localhost:8080/",
          "height": 298
        },
        "id": "-8VdsEfgjRvX",
        "outputId": "442ec147-0a51-4709-d93a-f182bcd5a78d"
      },
      "outputs": [
        {
          "data": {
            "image/png": "[encoded data removed]",
            "text/plain": [
              "<Figure size 800x400 with 8 Axes>"
            ]
          },
          "metadata": {},
          "output_type": "display_data"
        }
      ],
      "source": [
        "from typing import Optional\n",
        "def plot_data(x_data: np.ndarray, y_data: np.ndarray, y_proba: Optional[np.ndarray]=None) -> None:\n",
        "  nrows, ncols = 2, 4\n",
        "  fig, axes = plt.subplots(nrows=nrows, ncols=ncols, figsize=(8,4))\n",
        "  len_x = x_data.shape[0]\n",
        "  for idx in range(nrows*ncols):\n",
        "    ax = axes[idx // ncols, idx % ncols]\n",
        "    img_idx = random.randint(0, len_x)\n",
        "    \n",
        "    ax.imshow(x_data[img_idx], cmap='gray')\n",
        "    \n",
        "    ax.set(xticks=[], yticks=[])\n",
        "    color = 'green'\n",
        "    true_label_str = f\"True: {class_names[y_data[img_idx]]}\"\n",
        "    if y_proba is not None: \n",
        "      predicted_idx = np.argmax(y_proba[img_idx])\n",
        "      predicted_label = class_names[predicted_idx]\n",
        "      color = 'red' if predicted_idx != y_data[img_idx] else color\n",
        "      predicted_label_str = f\"\\nPredicted: {predicted_label}\"\n",
        "    \n",
        "    img_title = true_label_str if y_proba is None else true_label_str + predicted_label_str\n",
        "    \n",
        "    ax.set_xlabel(img_title, color=color, fontsize=12)\n",
        "  \n",
        "  plt.tight_layout()\n",
        "  plt.show()\n",
        "\n",
        "plot_data(X_train, y_train)"
      ]
    },
    {
      "cell_type": "markdown",
      "metadata": {
        "id": "u6tirayguW-U"
      },
      "source": [
        "## 2. Image Pre-processing\n",
        "- Reshaping it into the shape the model expects and scaling it so that all values are in the `[0, 1]` interval\n",
        "- Transform from `unit8` it into a `float32`"
      ]
    },
    {
      "cell_type": "code",
      "execution_count": 89,
      "metadata": {
        "colab": {
          "base_uri": "https://localhost:8080/"
        },
        "id": "xH0FlQB5uZTQ",
        "outputId": "1bb5d134-3e03-472c-eb55-d51fcdc5b616"
      },
      "outputs": [
        {
          "name": "stdout",
          "output_type": "stream",
          "text": [
            "X_train shape: (60000, 28, 28, 1)\n",
            "60000 train samples\n",
            "10000 test samples\n"
          ]
        }
      ],
      "source": [
        "# Convert to float32 & Scale images to the [0, 1] range for training\n",
        "X_train = X_train.astype(\"float32\") / 255\n",
        "X_test = X_test.astype(\"float32\") / 255\n",
        "\n",
        "# Make sure images have shape (60000, 28, 28) => (60000, 28, 28, 1)\n",
        "X_train = np.expand_dims(X_train, axis=-1)\n",
        "X_test = np.expand_dims(X_test, axis=-1)\n",
        "print(\"X_train shape:\", X_train.shape)\n",
        "print(X_train.shape[0], \"train samples\")\n",
        "print(X_test.shape[0], \"test samples\")"
      ]
    },
    {
      "cell_type": "code",
      "execution_count": 90,
      "metadata": {
        "id": "f77bXlMp8qyv"
      },
      "outputs": [],
      "source": [
        "# convert class vectors to binary class matrices: 1 => [0 1 0 0 ...] \n",
        "# 1              => sparse_categorical_crossentropy\n",
        "# [0 1 0 0 ...]  => categorical_crossentropy\n",
        "y_train_label = keras.utils.to_categorical(y_train, class_nums)\n",
        "y_test_label = keras.utils.to_categorical(y_test, class_nums)"
      ]
    },
    {
      "cell_type": "code",
      "execution_count": 91,
      "metadata": {},
      "outputs": [
        {
          "name": "stdout",
          "output_type": "stream",
          "text": [
            "y_train shape: (60000, 10)\n"
          ]
        }
      ],
      "source": [
        "print(\"y_train shape:\", y_train_label.shape)"
      ]
    },
    {
      "cell_type": "markdown",
      "metadata": {
        "id": "B6eRWMMr3GER"
      },
      "source": [
        "## 3. Network Architecture\n",
        "- For  **binary classification** or multilabel binary classification, then we would use the `\"sigmoid\"` (i.e., logistic) activation function in the output layer instead of the `\"softmax\"` activation function, and we would use the `\"binary_crossentropy\"` loss.\n",
        "- Loss function:\n",
        "  - `\"sparse_categorical_crossentropy\"` loss because we have sparse labels: (i.e., for each instance, there is just a target class index, from 0 to 9 in this case), and the classes are exclusive. \n",
        "  - `\"categorical_crossentropy\"`: If instead we had one target probability per class for each instance (such as one-hot vectors, e.g. [0., 0., 0., 1., 0., 0., 0., 0., 0., 0.] to represent class 3), then we would need to use the \"categorical_crossentropy\" loss instead. "
      ]
    },
    {
      "cell_type": "markdown",
      "metadata": {},
      "source": [
        "- `tf.keras.backend.clear_session()` to reset name_counters by clearing all global state managed by Keras is stored in a Keras session\n",
        "- `tf.keras.utils.set_random_seed()` function, which conveniently sets the random seeds for **TensorFlow**, **Python** (`random.seed()`), and **NumPy** (`np.random.seed()`)\n",
        "- **First Layer** (`input_shape`): only the shape of the instances, doesn’t include the batch size\n",
        "- **Flatten Layer**: convert each input image into a 1D array: \n",
        "    - For example, if it receives a batch of shape `[32, 28, 28]`, it will reshape it to `[32, 784]`. \n",
        "- **Dense Hidden Layer** with 300 neurons:\n",
        "    - Input layer has 784 nodes, total trainable parameters in this dense layer 784 × 300 connection weights, plus 300 bias terms, which adds up to 235,500 parameters"
      ]
    },
    {
      "cell_type": "code",
      "execution_count": 110,
      "metadata": {
        "id": "VHKhR8_G3LPc"
      },
      "outputs": [],
      "source": [
        "tf.keras.backend.clear_session()\n",
        "model = tf.keras.Sequential([\n",
        "    tf.keras.layers.Input(shape=[28, 28]),\n",
        "    tf.keras.layers.Flatten(),\n",
        "    tf.keras.layers.Dense(256, activation=\"relu\"),\n",
        "    tf.keras.layers.Dense(64, activation=\"relu\"),\n",
        "    tf.keras.layers.Dense(10, activation=\"softmax\")\n",
        "])"
      ]
    },
    {
      "cell_type": "code",
      "execution_count": 93,
      "metadata": {
        "colab": {
          "base_uri": "https://localhost:8080/"
        },
        "id": "T-rAq7qx9vT7",
        "outputId": "ebc37aaa-861c-4b78-8451-96dc1e298f8d"
      },
      "outputs": [
        {
          "name": "stdout",
          "output_type": "stream",
          "text": [
            "Model: \"sequential\"\n",
            "_________________________________________________________________\n",
            " Layer (type)                Output Shape              Param #   \n",
            "=================================================================\n",
            " flatten (Flatten)           (None, 784)               0         \n",
            "                                                                 \n",
            " dense (Dense)               (None, 256)               200960    \n",
            "                                                                 \n",
            " dense_1 (Dense)             (None, 64)                16448     \n",
            "                                                                 \n",
            " dense_2 (Dense)             (None, 10)                650       \n",
            "                                                                 \n",
            "=================================================================\n",
            "Total params: 218058 (851.79 KB)\n",
            "Trainable params: 218058 (851.79 KB)\n",
            "Non-trainable params: 0 (0.00 Byte)\n",
            "_________________________________________________________________\n"
          ]
        }
      ],
      "source": [
        "model.summary()"
      ]
    },
    {
      "cell_type": "markdown",
      "metadata": {},
      "source": [
        "For model, we can use:\n",
        "- `.layers` attribute: to get a model’s list of layers\n",
        "- `.get_layer()` method to access a layer by name"
      ]
    },
    {
      "cell_type": "code",
      "execution_count": 94,
      "metadata": {},
      "outputs": [
        {
          "data": {
            "text/plain": [
              "[<keras.src.layers.reshaping.flatten.Flatten at 0x375cdd8d0>,\n",
              " <keras.src.layers.core.dense.Dense at 0x37453c7d0>,\n",
              " <keras.src.layers.core.dense.Dense at 0x37453ecd0>,\n",
              " <keras.src.layers.core.dense.Dense at 0x3744a0690>]"
            ]
          },
          "execution_count": 94,
          "metadata": {},
          "output_type": "execute_result"
        }
      ],
      "source": [
        "# get a model’s list of layers \n",
        "model.layers"
      ]
    },
    {
      "cell_type": "code",
      "execution_count": 95,
      "metadata": {},
      "outputs": [
        {
          "name": "stdout",
          "output_type": "stream",
          "text": [
            "dense\n",
            "True\n"
          ]
        }
      ],
      "source": [
        "hidden_1 = model.layers[1] # named as 'dense'\n",
        "print(hidden_1.name)\n",
        "print(model.get_layer('dense') is hidden_1) # tru"
      ]
    },
    {
      "cell_type": "markdown",
      "metadata": {},
      "source": [
        "For each layer, we can use\n",
        "- `.get_weights()` to access all the parameters of a layer\n",
        "- `.set_weights()` to init & set the parameters of a layer\n",
        "- If you want to use a different initialization method, you can set `kernel_initializer` (kernel is another name for the matrix of connection weights) or `bias_initializer` when creating the layer.\n",
        "    - Full list: [Kernel Initializer](https://keras.io/api/layers/initializers)"
      ]
    },
    {
      "cell_type": "code",
      "execution_count": 96,
      "metadata": {},
      "outputs": [
        {
          "name": "stdout",
          "output_type": "stream",
          "text": [
            "(784, 256)\n",
            "(256,)\n"
          ]
        }
      ],
      "source": [
        "# For a Dense layer, this includes both the connection weights and the bias terms\n",
        "weights, biases = hidden_1.get_weights()\n",
        "print(weights.shape)\n",
        "print(biases.shape)"
      ]
    },
    {
      "cell_type": "markdown",
      "metadata": {},
      "source": [
        "### Model Compilation\n",
        "- Full lists: [Losses](https://keras.io/api/losses), [Optimizer](https://keras.io/api/optimizers), and [Metrics](https://keras.io/api/metrics)"
      ]
    },
    {
      "cell_type": "code",
      "execution_count": 111,
      "metadata": {},
      "outputs": [],
      "source": [
        "optimizer = tf.keras.optimizers.legacy.SGD(learning_rate=0.01)\n",
        "# optimizer = tf.keras.optimizers.AdamW(learning_rate=1e-4)\n",
        "model.compile(loss=\"categorical_crossentropy\",\n",
        "              optimizer=optimizer,\n",
        "              metrics=[\"accuracy\"])"
      ]
    },
    {
      "cell_type": "code",
      "execution_count": null,
      "metadata": {
        "colab": {
          "base_uri": "https://localhost:8080/"
        },
        "id": "vYa_2ezs7dVu",
        "outputId": "b94a3959-7d76-409d-c462-e0f6dc93dd3e"
      },
      "outputs": [
        {
          "data": {
            "text/plain": [
              "'\\n## Train the model\\n\\n\\nepochs = 30\\nbatch_size = 128\\nhistory = model.fit(X_train, \\n                    y_train_label, \\n                    epochs=epochs, \\n                    batch_size=batch_size, # defaults to 32\\n                    validation_split=0.1,  # use the last 10% of the data (before shuffling) for validation\\n                    )\\n'"
            ]
          },
          "execution_count": 17,
          "metadata": {},
          "output_type": "execute_result"
        }
      ],
      "source": [
        "\"\"\"\n",
        "## Train the model\n",
        "\n",
        "\n",
        "epochs = 30\n",
        "batch_size = 128\n",
        "history = model.fit(X_train, \n",
        "                    y_train_label, \n",
        "                    epochs=epochs, \n",
        "                    batch_size=batch_size, # defaults to 32\n",
        "                    validation_split=0.1,  # use the last 10% of the data (before shuffling) for validation\n",
        "                    )\n",
        "\"\"\""
      ]
    },
    {
      "cell_type": "code",
      "execution_count": null,
      "metadata": {
        "id": "SlJS0MODqZZk"
      },
      "outputs": [],
      "source": [
        "# pd.DataFrame(history.history).plot(\n",
        "#     figsize=(15, 5), xlim=[0, epochs-1], ylim=[0, 1], grid=True, xlabel=\"Epoch\",\n",
        "#     style=[\"r--\", \"r--.\", \"b-\", \"b-*\"])\n",
        "# plt.show()"
      ]
    },
    {
      "cell_type": "markdown",
      "metadata": {},
      "source": [
        "### Save Model\n",
        "\n",
        "- Set `save_format=\"tf\"`, Keras saves the model using TensorFlow’s **SavedModel** format\n",
        "    - `saved_model.pb` file contains the model’s architecture and logic in the form of a serialized computation graph, so you don’t need to deploy the model’s source code in order to use it in production\n",
        "    - `keras_metadata.pb` file contains extra information needed by Keras.\n",
        "    - `variables` directory contains all the parameter values (including the connection weights, the biases, the normalization statistics, and the optimizer’s parameters), \n",
        "        - possibly split across multiple files if the model is very large. \n",
        "    - `assets` directory may contain extra files, such as data samples, feature names, class names, and so on. By default, the assets directory is empty. \n",
        "        - Since the optimizer is also saved, including its hyperparameters and any state it may have, after loading the model you can continue training if you want.\n",
        "- Set `save_format=\"h5\"` or use a filename that ends with .h5, .hdf5, or .keras, then Keras will save the model to a single file using a Keras-specific format based on the HDF5 format. However, most TensorFlow deployment tools require the SavedModel format instead.\n",
        "- Use `save_weights()` and `load_weights()` to save and load only the parameter values.\n",
        "    -  This includes the connection weights, biases, preprocessing stats, optimizer state, etc. \n",
        "    - The parameter values are saved in one or more files such as` my_weights.data-00004-of-00052`, plus an index file like `my_weights.index`.\n",
        "    - Saving just the weights is faster and uses less disk space than saving the whole model, so it’s perfect to save quick **checkpoints** during training. \n",
        "\n"
      ]
    },
    {
      "cell_type": "code",
      "execution_count": null,
      "metadata": {},
      "outputs": [
        {
          "name": "stdout",
          "output_type": "stream",
          "text": [
            "INFO:tensorflow:Assets written to: my_keras_model/assets\n"
          ]
        },
        {
          "name": "stderr",
          "output_type": "stream",
          "text": [
            "INFO:tensorflow:Assets written to: my_keras_model/assets\n"
          ]
        }
      ],
      "source": [
        "# model.save(\"my_keras_model\", save_format=\"tf\")"
      ]
    },
    {
      "cell_type": "markdown",
      "metadata": {},
      "source": [
        "### Use Callbacks\n",
        "- `ModelCheckpoint` callback saves checkpoints of your model at regular intervals during training, by default at the end of each epoch\n",
        "- `EarlyStopping` callback will interrupt training when it measures no progress on the validation set for a number of epochs (defined by the `patience` argument)\n",
        "- Other [Callbacks](https://keras.io/api/callbacks/)"
      ]
    },
    {
      "cell_type": "code",
      "execution_count": 107,
      "metadata": {},
      "outputs": [],
      "source": [
        "checkpoint_cb = tf.keras.callbacks.ModelCheckpoint(\"model_ckhp/my_checkpoints\",\n",
        "                                                   save_weights_only=True,\n",
        "                                                   save_best_only=True, # only save your model when its performance on the validation set is the best so far.\n",
        "                                                   )\n",
        "early_stopping_cb = tf.keras.callbacks.EarlyStopping(patience=5,\n",
        "                                                     restore_best_weights=True)"
      ]
    },
    {
      "cell_type": "code",
      "execution_count": 113,
      "metadata": {},
      "outputs": [],
      "source": [
        "from pathlib import Path\n",
        "from time import strftime\n",
        "\n",
        "def get_run_logdir(root_logdir=\"my_logs\"):\n",
        "    return Path(root_logdir) / strftime(\"run_%Y_%m_%d_%H_%M_%S\")\n",
        "\n",
        "run_logdir = get_run_logdir()\n",
        "tensorboard_cb = tf.keras.callbacks.TensorBoard(run_logdir,\n",
        "                                                # profile_batch=(100, 200)\n",
        "                                            )"
      ]
    },
    {
      "cell_type": "markdown",
      "metadata": {},
      "source": [
        "#### Custom Callbacks\n",
        "- You can easily write your own custom callbacks. For example, the following custom callback will display the ratio between the validation loss and the training loss during training (e.g., to detect overfitting)\n",
        "- You can implement the custom call backs:\n",
        "    - During training: `on_train_begin(`), `on_train_end()`, `on_epoch_begin()`, `on_epoch_end(`), `on_batch_begin()`, and `on_batch_end()`\n",
        "    - During evaluation which is called by `evaluate`: `on_test_begin()`, `on_test_end()`, `on_test_batch_begin()`, `or on_test_batch_end()`\n",
        "    - During prediction which is called by `predict`: `on_predict_begin()`, `on_predict_end()`, `on_predict_batch_begin()`, or `on_predict_batch_end()`"
      ]
    },
    {
      "cell_type": "code",
      "execution_count": 103,
      "metadata": {},
      "outputs": [],
      "source": [
        "class PrintValTrainRatioCallback(tf.keras.callbacks.Callback):\n",
        "    def on_epoch_end(self, epoch, logs):\n",
        "        ratio = logs[\"val_loss\"] / logs[\"loss\"]\n",
        "        print(f\" val/train={ratio:.2f}\")\n",
        "\n",
        "val_train_ratio_cb = PrintValTrainRatioCallback()"
      ]
    },
    {
      "cell_type": "code",
      "execution_count": 114,
      "metadata": {},
      "outputs": [
        {
          "name": "stdout",
          "output_type": "stream",
          "text": [
            "Epoch 1/30\n",
            "1688/1688 [==============================] - ETA: 0s - loss: 0.7187 - accuracy: 0.7566 val/train=0.77\n",
            "1688/1688 [==============================] - 16s 9ms/step - loss: 0.7187 - accuracy: 0.7566 - val_loss: 0.5503 - val_accuracy: 0.8088\n",
            "Epoch 2/30\n",
            "1683/1688 [============================>.] - ETA: 0s - loss: 0.5139 - accuracy: 0.8234 val/train=0.98\n",
            "1688/1688 [==============================] - 15s 9ms/step - loss: 0.5138 - accuracy: 0.8235 - val_loss: 0.5029 - val_accuracy: 0.8263\n",
            "Epoch 3/30\n",
            "1687/1688 [============================>.] - ETA: 0s - loss: 0.4794 - accuracy: 0.8346 val/train=1.02\n",
            "1688/1688 [==============================] - 15s 9ms/step - loss: 0.4794 - accuracy: 0.8346 - val_loss: 0.4904 - val_accuracy: 0.8293\n",
            "Epoch 4/30\n",
            "1683/1688 [============================>.] - ETA: 0s - loss: 0.4601 - accuracy: 0.8415 val/train=1.01\n",
            "1688/1688 [==============================] - 15s 9ms/step - loss: 0.4600 - accuracy: 0.8415 - val_loss: 0.4649 - val_accuracy: 0.8310\n",
            "Epoch 5/30\n",
            "1687/1688 [============================>.] - ETA: 0s - loss: 0.4499 - accuracy: 0.8440 val/train=1.03\n",
            "1688/1688 [==============================] - 15s 9ms/step - loss: 0.4498 - accuracy: 0.8441 - val_loss: 0.4627 - val_accuracy: 0.8360\n",
            "Epoch 6/30\n",
            "1687/1688 [============================>.] - ETA: 0s - loss: 0.4427 - accuracy: 0.8470 val/train=1.02\n",
            "1688/1688 [==============================] - 15s 9ms/step - loss: 0.4426 - accuracy: 0.8471 - val_loss: 0.4496 - val_accuracy: 0.8365\n",
            "Epoch 7/30\n",
            "1683/1688 [============================>.] - ETA: 0s - loss: 0.4381 - accuracy: 0.8475 val/train=1.02\n",
            "1688/1688 [==============================] - 16s 9ms/step - loss: 0.4381 - accuracy: 0.8475 - val_loss: 0.4457 - val_accuracy: 0.8433\n",
            "Epoch 8/30\n",
            "1684/1688 [============================>.] - ETA: 0s - loss: 0.4353 - accuracy: 0.8504 val/train=1.02\n",
            "1688/1688 [==============================] - 15s 9ms/step - loss: 0.4352 - accuracy: 0.8505 - val_loss: 0.4450 - val_accuracy: 0.8442\n",
            "Epoch 9/30\n",
            "1683/1688 [============================>.] - ETA: 0s - loss: 0.4342 - accuracy: 0.8501 val/train=1.01\n",
            "1688/1688 [==============================] - 15s 9ms/step - loss: 0.4342 - accuracy: 0.8501 - val_loss: 0.4396 - val_accuracy: 0.8403\n",
            "Epoch 10/30\n",
            "1685/1688 [============================>.] - ETA: 0s - loss: 0.4393 - accuracy: 0.8473 val/train=0.98\n",
            "1688/1688 [==============================] - 16s 9ms/step - loss: 0.4390 - accuracy: 0.8474 - val_loss: 0.4323 - val_accuracy: 0.8487\n",
            "Epoch 11/30\n",
            "1684/1688 [============================>.] - ETA: 0s - loss: 0.4549 - accuracy: 0.8436 val/train=1.05\n",
            "1688/1688 [==============================] - 16s 9ms/step - loss: 0.4547 - accuracy: 0.8436 - val_loss: 0.4790 - val_accuracy: 0.8320\n",
            "Epoch 12/30\n",
            "1687/1688 [============================>.] - ETA: 0s - loss: 0.4859 - accuracy: 0.8370 val/train=2.25\n",
            "1688/1688 [==============================] - 17s 10ms/step - loss: 0.4860 - accuracy: 0.8370 - val_loss: 1.0922 - val_accuracy: 0.7558\n",
            "Epoch 13/30\n",
            "1688/1688 [==============================] - ETA: 0s - loss: 0.5593 - accuracy: 0.8270 val/train=0.95\n",
            "1688/1688 [==============================] - 16s 9ms/step - loss: 0.5593 - accuracy: 0.8270 - val_loss: 0.5298 - val_accuracy: 0.8402\n",
            "Epoch 14/30\n",
            "1687/1688 [============================>.] - ETA: 0s - loss: 0.6306 - accuracy: 0.8199 val/train=0.80\n",
            "1688/1688 [==============================] - 15s 9ms/step - loss: 0.6304 - accuracy: 0.8200 - val_loss: 0.5061 - val_accuracy: 0.8428\n",
            "Epoch 15/30\n",
            "1686/1688 [============================>.] - ETA: 0s - loss: 0.7284 - accuracy: 0.8104 val/train=1.19\n",
            "1688/1688 [==============================] - 16s 9ms/step - loss: 0.7290 - accuracy: 0.8104 - val_loss: 0.8680 - val_accuracy: 0.8190\n"
          ]
        }
      ],
      "source": [
        "epochs = 30\n",
        "batch_size = 32\n",
        "history = model.fit(X_train, \n",
        "                    y_train_label, \n",
        "                    epochs=epochs, \n",
        "                    batch_size=batch_size, # defaults to 32\n",
        "                    validation_split=0.1,  # use the last 10% of the data (before shuffling) for validation\n",
        "                    callbacks=[\n",
        "                        checkpoint_cb, early_stopping_cb, \n",
        "                        val_train_ratio_cb, tensorboard_cb\n",
        "                    ]\n",
        "                )"
      ]
    },
    {
      "cell_type": "markdown",
      "metadata": {
        "id": "FACLgFtewwd_"
      },
      "source": [
        "# 4. Model Evaluation"
      ]
    },
    {
      "cell_type": "code",
      "execution_count": null,
      "metadata": {
        "colab": {
          "base_uri": "https://localhost:8080/"
        },
        "id": "kvw-a95R-UcP",
        "outputId": "a1901f7c-2be5-4f94-d274-2927415af9e9"
      },
      "outputs": [
        {
          "name": "stdout",
          "output_type": "stream",
          "text": [
            "Test loss: 0.4589828550815582\n",
            "Test accuracy: 0.8393999934196472\n"
          ]
        }
      ],
      "source": [
        "\"\"\"\n",
        "## Evaluate the trained model\n",
        "\"\"\"\n",
        "\n",
        "score = model.evaluate(X_test, y_test_label, verbose=0)\n",
        "print(\"Test loss:\", score[0])\n",
        "print(\"Test accuracy:\", score[1])"
      ]
    },
    {
      "cell_type": "markdown",
      "metadata": {},
      "source": []
    },
    {
      "cell_type": "markdown",
      "metadata": {
        "id": "_sb1EYjH327Z"
      },
      "source": [
        "# 5. Prediction"
      ]
    },
    {
      "cell_type": "code",
      "execution_count": null,
      "metadata": {
        "colab": {
          "base_uri": "https://localhost:8080/",
          "height": 161
        },
        "id": "GZG4cM5uw7ao",
        "outputId": "4a78905c-7f14-4c42-fc4b-5be0c73de33d"
      },
      "outputs": [
        {
          "name": "stdout",
          "output_type": "stream",
          "text": [
            "1/1 [==============================] - 0s 45ms/step\n"
          ]
        },
        {
          "data": {
            "text/html": [
              "<div>\n",
              "<style scoped>\n",
              "    .dataframe tbody tr th:only-of-type {\n",
              "        vertical-align: middle;\n",
              "    }\n",
              "\n",
              "    .dataframe tbody tr th {\n",
              "        vertical-align: top;\n",
              "    }\n",
              "\n",
              "    .dataframe thead th {\n",
              "        text-align: right;\n",
              "    }\n",
              "</style>\n",
              "<table border=\"1\" class=\"dataframe\">\n",
              "  <thead>\n",
              "    <tr style=\"text-align: right;\">\n",
              "      <th></th>\n",
              "      <th>T-shirt/top</th>\n",
              "      <th>Trouser</th>\n",
              "      <th>Pullover</th>\n",
              "      <th>Dress</th>\n",
              "      <th>Coat</th>\n",
              "      <th>Sandal</th>\n",
              "      <th>Shirt</th>\n",
              "      <th>Sneaker</th>\n",
              "      <th>Bag</th>\n",
              "      <th>Ankle boot</th>\n",
              "      <th>Label</th>\n",
              "    </tr>\n",
              "  </thead>\n",
              "  <tbody>\n",
              "    <tr>\n",
              "      <th>0</th>\n",
              "      <td>0.0</td>\n",
              "      <td>0.0</td>\n",
              "      <td>0.000</td>\n",
              "      <td>0.0</td>\n",
              "      <td>0.000</td>\n",
              "      <td>0.125</td>\n",
              "      <td>0.000</td>\n",
              "      <td>0.089</td>\n",
              "      <td>0.002</td>\n",
              "      <td>0.784</td>\n",
              "      <td>Ankle boot</td>\n",
              "    </tr>\n",
              "    <tr>\n",
              "      <th>1</th>\n",
              "      <td>0.0</td>\n",
              "      <td>0.0</td>\n",
              "      <td>0.946</td>\n",
              "      <td>0.0</td>\n",
              "      <td>0.012</td>\n",
              "      <td>0.000</td>\n",
              "      <td>0.042</td>\n",
              "      <td>0.000</td>\n",
              "      <td>0.000</td>\n",
              "      <td>0.000</td>\n",
              "      <td>Pullover</td>\n",
              "    </tr>\n",
              "    <tr>\n",
              "      <th>2</th>\n",
              "      <td>0.0</td>\n",
              "      <td>1.0</td>\n",
              "      <td>0.000</td>\n",
              "      <td>0.0</td>\n",
              "      <td>0.000</td>\n",
              "      <td>0.000</td>\n",
              "      <td>0.000</td>\n",
              "      <td>0.000</td>\n",
              "      <td>0.000</td>\n",
              "      <td>0.000</td>\n",
              "      <td>Trouser</td>\n",
              "    </tr>\n",
              "  </tbody>\n",
              "</table>\n",
              "</div>"
            ],
            "text/plain": [
              "   T-shirt/top  Trouser  Pullover  Dress   Coat  Sandal  Shirt  Sneaker  \\\n",
              "0          0.0      0.0     0.000    0.0  0.000   0.125  0.000    0.089   \n",
              "1          0.0      0.0     0.946    0.0  0.012   0.000  0.042    0.000   \n",
              "2          0.0      1.0     0.000    0.0  0.000   0.000  0.000    0.000   \n",
              "\n",
              "     Bag  Ankle boot       Label  \n",
              "0  0.002       0.784  Ankle boot  \n",
              "1  0.000       0.000    Pullover  \n",
              "2  0.000       0.000     Trouser  "
            ]
          },
          "execution_count": 26,
          "metadata": {},
          "output_type": "execute_result"
        }
      ],
      "source": [
        "X_sample = X_test[:3]\n",
        "y_proba = model.predict(X_sample)\n",
        "pd.DataFrame([[*y_p, class_names[y_l]] for y_p, y_l in zip(y_proba.round(3), y_test[:3])], \n",
        "              columns=[*class_names, 'Label'])\n"
      ]
    },
    {
      "cell_type": "code",
      "execution_count": null,
      "metadata": {
        "colab": {
          "base_uri": "https://localhost:8080/"
        },
        "id": "5m4Vi4kOxQpR",
        "outputId": "86ee0452-7fca-4cdf-8107-a2c9a04596a6"
      },
      "outputs": [
        {
          "name": "stdout",
          "output_type": "stream",
          "text": [
            "['Ankle boot', 'Pullover', 'Trouser']\n"
          ]
        }
      ],
      "source": [
        "predictions = np.argmax(y_proba, axis=1)\n",
        "print([class_names[pred_idx] for pred_idx in predictions])"
      ]
    },
    {
      "cell_type": "code",
      "execution_count": null,
      "metadata": {
        "colab": {
          "base_uri": "https://localhost:8080/"
        },
        "id": "hyUEajdj4OWa",
        "outputId": "4658e9fc-cdd1-4658-ba0f-bd00bd1ea7d1"
      },
      "outputs": [
        {
          "name": "stdout",
          "output_type": "stream",
          "text": [
            "  1/313 [..............................] - ETA: 4s"
          ]
        },
        {
          "name": "stdout",
          "output_type": "stream",
          "text": [
            "313/313 [==============================] - 0s 2ms/step\n"
          ]
        }
      ],
      "source": [
        "y_proba = model.predict(X_test)"
      ]
    },
    {
      "cell_type": "code",
      "execution_count": null,
      "metadata": {
        "colab": {
          "base_uri": "https://localhost:8080/",
          "height": 298
        },
        "id": "_mABfeS57L8W",
        "outputId": "1eae9c89-a5f3-4d66-f22e-ee86c4d7b02f"
      },
      "outputs": [
        {
          "data": {
            "image/png": "[encoded data removed]",
            "text/plain": [
              "<Figure size 800x400 with 8 Axes>"
            ]
          },
          "metadata": {},
          "output_type": "display_data"
        }
      ],
      "source": [
        "plot_data(X_test, y_test, y_proba)"
      ]
    },
    {
      "cell_type": "code",
      "execution_count": null,
      "metadata": {
        "colab": {
          "base_uri": "https://localhost:8080/"
        },
        "id": "zpn0KFyQ7ndI",
        "outputId": "dc756612-3aa3-4532-be76-4836008cb245"
      },
      "outputs": [
        {
          "name": "stdout",
          "output_type": "stream",
          "text": [
            "              precision    recall  f1-score   support\n",
            "\n",
            " T-shirt/top       0.83      0.78      0.80      1000\n",
            "     Trouser       0.97      0.96      0.96      1000\n",
            "    Pullover       0.70      0.79      0.74      1000\n",
            "       Dress       0.81      0.87      0.84      1000\n",
            "        Coat       0.75      0.72      0.73      1000\n",
            "      Sandal       0.94      0.91      0.92      1000\n",
            "       Shirt       0.62      0.57      0.59      1000\n",
            "     Sneaker       0.91      0.92      0.92      1000\n",
            "         Bag       0.94      0.94      0.94      1000\n",
            "  Ankle boot       0.93      0.94      0.94      1000\n",
            "\n",
            "    accuracy                           0.84     10000\n",
            "   macro avg       0.84      0.84      0.84     10000\n",
            "weighted avg       0.84      0.84      0.84     10000\n",
            "\n"
          ]
        }
      ],
      "source": [
        "from sklearn.metrics import classification_report\n",
        "\n",
        "print(classification_report(y_test, np.argmax(y_proba, axis=1), target_names=class_names))"
      ]
    }
  ],
  "metadata": {
    "colab": {
      "provenance": [],
      "toc_visible": true
    },
    "kernelspec": {
      "display_name": "Python 3",
      "name": "python3"
    },
    "language_info": {
      "codemirror_mode": {
        "name": "ipython",
        "version": 3
      },
      "file_extension": ".py",
      "mimetype": "text/x-python",
      "name": "python",
      "nbconvert_exporter": "python",
      "pygments_lexer": "ipython3",
      "version": "3.11.6"
    }
  },
  "nbformat": 4,
  "nbformat_minor": 0
}
