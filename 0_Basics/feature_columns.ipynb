{
  "nbformat": 4,
  "nbformat_minor": 0,
  "metadata": {
    "colab": {
      "name": "feature_columns.ipynb",
      "provenance": []
    },
    "kernelspec": {
      "name": "python3",
      "display_name": "Python 3"
    }
  },
  "cells": [
    {
      "cell_type": "markdown",
      "metadata": {
        "id": "HAMjDIla4NgF"
      },
      "source": [
        "# Feature Columns\n",
        "Feature column are bridge between raw data and estimator or model. In this tutorial, you will learn\n",
        "1. What is TensorFlow Feature Columns\n",
        "2. Numeric Feature Columns\n",
        "  - Bucketized Feature Columns\n",
        "3. Categorical Feature Columns\n",
        "  - Indicator Feature Columns\n",
        "  - Embedding Feature Columns\n",
        "  - Hashed Feature Columns\n",
        "4. Crossed Feature Columns\n",
        "\n",
        "\n",
        "As the following figure suggests, you specify the input to a model through the feature_columns argument of an Estimator (DNNClassifier for Iris). Feature Columns bridge input data (as returned by input_fn) with your model.\n",
        "\n",
        "![alt text](https://www.tensorflow.org/images/feature_columns/inputs_to_model_bridge.jpg)\n",
        "\n",
        "   Feature columns bridge raw data with the data your model needs. \n",
        "   \n",
        "   To create feature columns, call functions from the `tf.feature_column` module. This tutorial explains nine of the functions in that module. As the following figure shows, all nine functions return either a Categorical-Column or a Dense-Column object, except bucketized_column, which inherits from both classes:\n",
        "   \n",
        "   ![alt text](https://www.tensorflow.org/images/feature_columns/some_constructors.jpg)\n",
        "   Feature column methods fall into two main categories and one hybrid category. \n",
        "   \n",
        "   Let's look at these functions in more detail."
      ]
    },
    {
      "cell_type": "markdown",
      "metadata": {
        "id": "PsJ3PtckG0t4"
      },
      "source": [
        "## Import TensorFlow and other libraries"
      ]
    },
    {
      "cell_type": "code",
      "metadata": {
        "id": "4Cl0qfVS4BiI"
      },
      "source": [
        "from __future__ import absolute_import, division, print_function, unicode_literals\n",
        "\n",
        "import numpy as np\n",
        "import pandas as pd\n",
        "\n",
        "\n",
        "import tensorflow as tf\n",
        "\n",
        "from tensorflow import feature_column\n",
        "from tensorflow.keras import layers"
      ],
      "execution_count": 6,
      "outputs": []
    },
    {
      "cell_type": "code",
      "metadata": {
        "id": "SQnWmLn1Ra1v"
      },
      "source": [
        ""
      ],
      "execution_count": 6,
      "outputs": []
    },
    {
      "cell_type": "markdown",
      "metadata": {
        "id": "yu5Gg8k5KCL4"
      },
      "source": [
        "## Create Demo data\n"
      ]
    },
    {
      "cell_type": "code",
      "metadata": {
        "id": "4gvmkgxxA66_"
      },
      "source": [
        "data = {'marks': [55,21,63,88,74,54,95,41,84,52],\n",
        "        'grade': ['average','poor','average','good','good','average','good','average','good','average'],\n",
        "        'point': ['c','f','c+','b+','b','c','a','d+','b+','c']}"
      ],
      "execution_count": 7,
      "outputs": []
    },
    {
      "cell_type": "markdown",
      "metadata": {
        "id": "NAMy4NcYKKBY"
      },
      "source": [
        "## Demo Data"
      ]
    },
    {
      "cell_type": "code",
      "metadata": {
        "id": "Dp1pwuh9CQDz",
        "outputId": "803e8a45-e6c9-46f3-8804-d020aa196ac8",
        "colab": {
          "base_uri": "https://localhost:8080/",
          "height": 363
        }
      },
      "source": [
        "data_df = pd.DataFrame(data)\n",
        "data_df"
      ],
      "execution_count": 8,
      "outputs": [
        {
          "output_type": "execute_result",
          "data": {
            "text/html": [
              "\n",
              "  <div id=\"df-d60c14bb-cc54-4fd0-b78a-c56e70acdfba\">\n",
              "    <div class=\"colab-df-container\">\n",
              "      <div>\n",
              "<style scoped>\n",
              "    .dataframe tbody tr th:only-of-type {\n",
              "        vertical-align: middle;\n",
              "    }\n",
              "\n",
              "    .dataframe tbody tr th {\n",
              "        vertical-align: top;\n",
              "    }\n",
              "\n",
              "    .dataframe thead th {\n",
              "        text-align: right;\n",
              "    }\n",
              "</style>\n",
              "<table border=\"1\" class=\"dataframe\">\n",
              "  <thead>\n",
              "    <tr style=\"text-align: right;\">\n",
              "      <th></th>\n",
              "      <th>marks</th>\n",
              "      <th>grade</th>\n",
              "      <th>point</th>\n",
              "    </tr>\n",
              "  </thead>\n",
              "  <tbody>\n",
              "    <tr>\n",
              "      <th>0</th>\n",
              "      <td>55</td>\n",
              "      <td>average</td>\n",
              "      <td>c</td>\n",
              "    </tr>\n",
              "    <tr>\n",
              "      <th>1</th>\n",
              "      <td>21</td>\n",
              "      <td>poor</td>\n",
              "      <td>f</td>\n",
              "    </tr>\n",
              "    <tr>\n",
              "      <th>2</th>\n",
              "      <td>63</td>\n",
              "      <td>average</td>\n",
              "      <td>c+</td>\n",
              "    </tr>\n",
              "    <tr>\n",
              "      <th>3</th>\n",
              "      <td>88</td>\n",
              "      <td>good</td>\n",
              "      <td>b+</td>\n",
              "    </tr>\n",
              "    <tr>\n",
              "      <th>4</th>\n",
              "      <td>74</td>\n",
              "      <td>good</td>\n",
              "      <td>b</td>\n",
              "    </tr>\n",
              "    <tr>\n",
              "      <th>5</th>\n",
              "      <td>54</td>\n",
              "      <td>average</td>\n",
              "      <td>c</td>\n",
              "    </tr>\n",
              "    <tr>\n",
              "      <th>6</th>\n",
              "      <td>95</td>\n",
              "      <td>good</td>\n",
              "      <td>a</td>\n",
              "    </tr>\n",
              "    <tr>\n",
              "      <th>7</th>\n",
              "      <td>41</td>\n",
              "      <td>average</td>\n",
              "      <td>d+</td>\n",
              "    </tr>\n",
              "    <tr>\n",
              "      <th>8</th>\n",
              "      <td>84</td>\n",
              "      <td>good</td>\n",
              "      <td>b+</td>\n",
              "    </tr>\n",
              "    <tr>\n",
              "      <th>9</th>\n",
              "      <td>52</td>\n",
              "      <td>average</td>\n",
              "      <td>c</td>\n",
              "    </tr>\n",
              "  </tbody>\n",
              "</table>\n",
              "</div>\n",
              "      <button class=\"colab-df-convert\" onclick=\"convertToInteractive('df-d60c14bb-cc54-4fd0-b78a-c56e70acdfba')\"\n",
              "              title=\"Convert this dataframe to an interactive table.\"\n",
              "              style=\"display:none;\">\n",
              "        \n",
              "  <svg xmlns=\"http://www.w3.org/2000/svg\" height=\"24px\"viewBox=\"0 0 24 24\"\n",
              "       width=\"24px\">\n",
              "    <path d=\"M0 0h24v24H0V0z\" fill=\"none\"/>\n",
              "    <path d=\"M18.56 5.44l.94 2.06.94-2.06 2.06-.94-2.06-.94-.94-2.06-.94 2.06-2.06.94zm-11 1L8.5 8.5l.94-2.06 2.06-.94-2.06-.94L8.5 2.5l-.94 2.06-2.06.94zm10 10l.94 2.06.94-2.06 2.06-.94-2.06-.94-.94-2.06-.94 2.06-2.06.94z\"/><path d=\"M17.41 7.96l-1.37-1.37c-.4-.4-.92-.59-1.43-.59-.52 0-1.04.2-1.43.59L10.3 9.45l-7.72 7.72c-.78.78-.78 2.05 0 2.83L4 21.41c.39.39.9.59 1.41.59.51 0 1.02-.2 1.41-.59l7.78-7.78 2.81-2.81c.8-.78.8-2.07 0-2.86zM5.41 20L4 18.59l7.72-7.72 1.47 1.35L5.41 20z\"/>\n",
              "  </svg>\n",
              "      </button>\n",
              "      \n",
              "  <style>\n",
              "    .colab-df-container {\n",
              "      display:flex;\n",
              "      flex-wrap:wrap;\n",
              "      gap: 12px;\n",
              "    }\n",
              "\n",
              "    .colab-df-convert {\n",
              "      background-color: #E8F0FE;\n",
              "      border: none;\n",
              "      border-radius: 50%;\n",
              "      cursor: pointer;\n",
              "      display: none;\n",
              "      fill: #1967D2;\n",
              "      height: 32px;\n",
              "      padding: 0 0 0 0;\n",
              "      width: 32px;\n",
              "    }\n",
              "\n",
              "    .colab-df-convert:hover {\n",
              "      background-color: #E2EBFA;\n",
              "      box-shadow: 0px 1px 2px rgba(60, 64, 67, 0.3), 0px 1px 3px 1px rgba(60, 64, 67, 0.15);\n",
              "      fill: #174EA6;\n",
              "    }\n",
              "\n",
              "    [theme=dark] .colab-df-convert {\n",
              "      background-color: #3B4455;\n",
              "      fill: #D2E3FC;\n",
              "    }\n",
              "\n",
              "    [theme=dark] .colab-df-convert:hover {\n",
              "      background-color: #434B5C;\n",
              "      box-shadow: 0px 1px 3px 1px rgba(0, 0, 0, 0.15);\n",
              "      filter: drop-shadow(0px 1px 2px rgba(0, 0, 0, 0.3));\n",
              "      fill: #FFFFFF;\n",
              "    }\n",
              "  </style>\n",
              "\n",
              "      <script>\n",
              "        const buttonEl =\n",
              "          document.querySelector('#df-d60c14bb-cc54-4fd0-b78a-c56e70acdfba button.colab-df-convert');\n",
              "        buttonEl.style.display =\n",
              "          google.colab.kernel.accessAllowed ? 'block' : 'none';\n",
              "\n",
              "        async function convertToInteractive(key) {\n",
              "          const element = document.querySelector('#df-d60c14bb-cc54-4fd0-b78a-c56e70acdfba');\n",
              "          const dataTable =\n",
              "            await google.colab.kernel.invokeFunction('convertToInteractive',\n",
              "                                                     [key], {});\n",
              "          if (!dataTable) return;\n",
              "\n",
              "          const docLinkHtml = 'Like what you see? Visit the ' +\n",
              "            '<a target=\"_blank\" href=https://colab.research.google.com/notebooks/data_table.ipynb>data table notebook</a>'\n",
              "            + ' to learn more about interactive tables.';\n",
              "          element.innerHTML = '';\n",
              "          dataTable['output_type'] = 'display_data';\n",
              "          await google.colab.output.renderOutput(dataTable, element);\n",
              "          const docLink = document.createElement('div');\n",
              "          docLink.innerHTML = docLinkHtml;\n",
              "          element.appendChild(docLink);\n",
              "        }\n",
              "      </script>\n",
              "    </div>\n",
              "  </div>\n",
              "  "
            ],
            "text/plain": [
              "   marks    grade point\n",
              "0     55  average     c\n",
              "1     21     poor     f\n",
              "2     63  average    c+\n",
              "3     88     good    b+\n",
              "4     74     good     b\n",
              "5     54  average     c\n",
              "6     95     good     a\n",
              "7     41  average    d+\n",
              "8     84     good    b+\n",
              "9     52  average     c"
            ]
          },
          "metadata": {},
          "execution_count": 8
        }
      ]
    },
    {
      "cell_type": "code",
      "metadata": {
        "id": "saya2UL2E5An"
      },
      "source": [
        "# A utility method to show transromation from feature column\n",
        "def demo(feature_column):\n",
        "  feature_layer = layers.DenseFeatures(feature_column)\n",
        "  print(feature_layer(data).numpy())"
      ],
      "execution_count": 9,
      "outputs": []
    },
    {
      "cell_type": "markdown",
      "metadata": {
        "id": "hTloL_wkWDhO"
      },
      "source": [
        "### Numeric columns\n",
        "- A [numeric column](https://www.tensorflow.org/api_docs/python/tf/feature_column/numeric_column) is the simplest type of column. It is used to represent real valued features. \n",
        "- When using this column, your model will receive the column value from the dataframe unchanged."
      ]
    },
    {
      "cell_type": "code",
      "metadata": {
        "id": "qfmjwJm_Ci3M",
        "outputId": "66d9c85f-9f76-46c9-cc33-7fd3466b3e58",
        "colab": {
          "base_uri": "https://localhost:8080/"
        }
      },
      "source": [
        "marks = feature_column.numeric_column(\"marks\")\n",
        "\n",
        "#A layer that produces a dense Tensor based on given feature_columns\n",
        "feature_layer = layers.DenseFeatures(marks)\n",
        "print(feature_layer(data))\n",
        "# print(feature_layer(data).numpy())"
      ],
      "execution_count": 10,
      "outputs": [
        {
          "output_type": "stream",
          "name": "stdout",
          "text": [
            "tf.Tensor(\n",
            "[[55.]\n",
            " [21.]\n",
            " [63.]\n",
            " [88.]\n",
            " [74.]\n",
            " [54.]\n",
            " [95.]\n",
            " [41.]\n",
            " [84.]\n",
            " [52.]], shape=(10, 1), dtype=float32)\n"
          ]
        }
      ]
    },
    {
      "cell_type": "markdown",
      "metadata": {
        "id": "7R6Azy4ElGOr"
      },
      "source": [
        "### Bucketized columns\n",
        "Instead of representing year as a numeric column, we could split the year into several buckets using a [bucketized column](https://www.tensorflow.org/api_docs/python/tf/feature_column/bucketized_column). \n",
        "- Notice the one-hot values below describe which age range each row matches.\n",
        "     Buckets **include the left boundary, and exclude the right boundary**. \n",
        "- For example, consider raw data that represents the year a house was built. Instead of representing that year as a scalar numeric column, we could split the year into the following four buckets:\n",
        "![alt text](https://www.tensorflow.org/images/feature_columns/bucketized_column.jpg)\n",
        "\n",
        "Dividing year data into four buckets.\n",
        "\n",
        "The model will represent the buckets as follows:\n",
        ">Date Range| Description\n",
        ">------------|--------------------\n",
        ">< 1960 |  \t[1, 0, 0, 0]\n",
        ">>= 1960 but < 1980 | [0, 1, 0, 0]\n",
        ">>= 1980 but < 2000 | [0, 0, 1, 0]\n",
        ">>= 2000| [0, 0, 0, 1]\n",
        "\n",
        "\n",
        "The following code demonstrates how to create a bucketized feature:"
      ]
    },
    {
      "cell_type": "code",
      "metadata": {
        "id": "EZwwpcSNSguF",
        "outputId": "4c7248c6-f245-43af-8492-8e658a6babb2",
        "colab": {
          "base_uri": "https://localhost:8080/"
        }
      },
      "source": [
        "marks = feature_column.numeric_column(\"marks\")\n",
        "marks_buckets = feature_column.bucketized_column(marks, boundaries=[30,40,50,60,70,80,90])\n",
        "\n",
        "feature_layer = layers.DenseFeatures(marks_buckets)\n",
        "print(feature_layer(data))"
      ],
      "execution_count": 11,
      "outputs": [
        {
          "output_type": "stream",
          "name": "stdout",
          "text": [
            "tf.Tensor(\n",
            "[[0. 0. 0. 1. 0. 0. 0. 0.]\n",
            " [1. 0. 0. 0. 0. 0. 0. 0.]\n",
            " [0. 0. 0. 0. 1. 0. 0. 0.]\n",
            " [0. 0. 0. 0. 0. 0. 1. 0.]\n",
            " [0. 0. 0. 0. 0. 1. 0. 0.]\n",
            " [0. 0. 0. 1. 0. 0. 0. 0.]\n",
            " [0. 0. 0. 0. 0. 0. 0. 1.]\n",
            " [0. 0. 1. 0. 0. 0. 0. 0.]\n",
            " [0. 0. 0. 0. 0. 0. 1. 0.]\n",
            " [0. 0. 0. 1. 0. 0. 0. 0.]], shape=(10, 8), dtype=float32)\n"
          ]
        }
      ]
    },
    {
      "cell_type": "markdown",
      "metadata": {
        "id": "5DE8jgeury8i"
      },
      "source": [
        "## Categorical Columns"
      ]
    },
    {
      "cell_type": "markdown",
      "metadata": {
        "id": "zduHmN7arYe3"
      },
      "source": [
        "## Indicator and embedding columns\n",
        "- Indicator columns: One-hot vector\n",
        "- Embedding columns: As the number of categories grow large, it becomes infeasible to train a neural network using one-hot encodings. We can use an embedding column to overcome this limitation"
      ]
    },
    {
      "cell_type": "markdown",
      "metadata": {
        "id": "tOJN5DBcouRC"
      },
      "source": [
        "### Indicator columns\n",
        "Categorical vocabulary columns provide a good way to represent strings as a one-hot vector. For example:\n",
        "\n",
        "![alt text](https://www.tensorflow.org/images/feature_columns/categorical_column_with_vocabulary.jpg)\n",
        "\n",
        "Mapping string values to vocabulary columns"
      ]
    },
    {
      "cell_type": "code",
      "metadata": {
        "id": "Jf_mIYwBVXkh",
        "outputId": "a78341c2-4ddb-431d-a8eb-e91228e48586",
        "colab": {
          "base_uri": "https://localhost:8080/"
        }
      },
      "source": [
        "grade = feature_column.categorical_column_with_vocabulary_list(\n",
        "      'grade', ['poor', 'average', 'good'])\n",
        "\n",
        "grade_one_hot = feature_column.indicator_column(grade)\n",
        "feature_layer = layers.DenseFeatures(grade_one_hot)\n",
        "print(feature_layer(data))"
      ],
      "execution_count": 12,
      "outputs": [
        {
          "output_type": "stream",
          "name": "stdout",
          "text": [
            "tf.Tensor(\n",
            "[[0. 1. 0.]\n",
            " [1. 0. 0.]\n",
            " [0. 1. 0.]\n",
            " [0. 0. 1.]\n",
            " [0. 0. 1.]\n",
            " [0. 1. 0.]\n",
            " [0. 0. 1.]\n",
            " [0. 1. 0.]\n",
            " [0. 0. 1.]\n",
            " [0. 1. 0.]], shape=(10, 3), dtype=float32)\n"
          ]
        }
      ]
    },
    {
      "cell_type": "markdown",
      "metadata": {
        "id": "YQeKo9JPsO2H"
      },
      "source": [
        "#### Point column as indicator_column"
      ]
    },
    {
      "cell_type": "code",
      "metadata": {
        "id": "Dk9bNyRzb7OO",
        "outputId": "d783405d-606d-461d-c357-a22f68242a44",
        "colab": {
          "base_uri": "https://localhost:8080/"
        }
      },
      "source": [
        "point = feature_column.categorical_column_with_vocabulary_list(\n",
        "      'point', data_df['point'].unique())\n",
        "\n",
        "point_one_hot = feature_column.indicator_column(point)\n",
        "feature_layer = layers.DenseFeatures(point_one_hot)\n",
        "print(feature_layer(data))"
      ],
      "execution_count": 13,
      "outputs": [
        {
          "output_type": "stream",
          "name": "stdout",
          "text": [
            "tf.Tensor(\n",
            "[[1. 0. 0. 0. 0. 0. 0.]\n",
            " [0. 1. 0. 0. 0. 0. 0.]\n",
            " [0. 0. 1. 0. 0. 0. 0.]\n",
            " [0. 0. 0. 1. 0. 0. 0.]\n",
            " [0. 0. 0. 0. 1. 0. 0.]\n",
            " [1. 0. 0. 0. 0. 0. 0.]\n",
            " [0. 0. 0. 0. 0. 1. 0.]\n",
            " [0. 0. 0. 0. 0. 0. 1.]\n",
            " [0. 0. 0. 1. 0. 0. 0.]\n",
            " [1. 0. 0. 0. 0. 0. 0.]], shape=(10, 7), dtype=float32)\n"
          ]
        }
      ]
    },
    {
      "cell_type": "markdown",
      "metadata": {
        "id": "maOiPeuVqaWw"
      },
      "source": [
        "### Embedding columns\n",
        "Instead of representing the data as a one-hot vector of many dimensions, an [embedding column](https://www.tensorflow.org/api_docs/python/tf/feature_column/embedding_column) represents that data as a lower-dimensional, dense vector in which each cell can contain any number, not just 0 or 1. The size of the embedding (8, in the example below) is a parameter that must be tuned.\n",
        "\n",
        "Key point: **using an embedding column is best when a categorical column has many possible values**. We are using one here for demonstration purposes"
      ]
    },
    {
      "cell_type": "markdown",
      "metadata": {
        "id": "zw5JbFl_scjw"
      },
      "source": [
        "\n",
        "Let's look at an example comparing indicator and embedding columns. Suppose our input examples consist of different words from a limited palette of only 81 words. Further suppose that the data set provides the following input words in 4 separate examples:\n",
        "\n",
        "\n",
        "   *  \"dog\"\n",
        "   *  \"spoon\"\n",
        "   *  \"scissors\"\n",
        "   *   \"guitar\"\n",
        "   \n",
        "   In that case, the following figure illustrates the processing path for embedding columns or indicator columns.\n",
        "   \n",
        "   ![alt text](https://www.tensorflow.org/images/feature_columns/embedding_vs_indicator.jpg)\n",
        "\n",
        "An **embedding column** stores categorical data in a *lower-dimensional* vector than an **indicator column**. (We just placed random numbers into the embedding vectors; training determines the actual numbers.) \n",
        "\n",
        "When an example is processed, one of the categorical_column_with... functions maps the example string to a numerical categorical value. For example, a function maps \"spoon\" to [32]. (The 32 comes from our imagination—the actual values depend on the mapping function.) You may then represent these numerical categorical values in either of the following two ways:\n",
        "\n",
        "  *   As an indicator column. A function converts each numeric categorical value into an 81-element one-hot vector (because our palette consists of 81 words), placing a 1 in the index of the categorical value (0, 32, 79, 80) and a 0 in all the other positions.\n",
        "\n",
        "  *  As an embedding column. A function uses the numerical categorical values (0, 32, 79, 80) as indices to a lookup table. Each slot in that lookup table contains a 3-element vector.\n",
        "\n",
        "How do the values in the embeddings vectors magically get assigned? Actually, the assignments happen during training. That is, the model learns the best way to map your input numeric categorical values to the embeddings vector value in order to solve your problem."
      ]
    },
    {
      "cell_type": "markdown",
      "metadata": {
        "id": "dv20a--3sN8f"
      },
      "source": [
        "### Point column as embedding_column"
      ]
    },
    {
      "cell_type": "code",
      "metadata": {
        "id": "U0rppLoAYS8h",
        "outputId": "5f21e5c4-a87d-4347-eeaf-f6b6139c97f7",
        "colab": {
          "base_uri": "https://localhost:8080/"
        }
      },
      "source": [
        "# Notice the input to the embedding column is the categorical column\n",
        "# we previously created\n",
        "point_embedding = feature_column.embedding_column(point, dimension=4)\n",
        "feature_layer = layers.DenseFeatures(point_embedding)\n",
        "print(feature_layer(data))"
      ],
      "execution_count": 14,
      "outputs": [
        {
          "output_type": "stream",
          "name": "stdout",
          "text": [
            "tf.Tensor(\n",
            "[[ 0.24854095  0.49465972  0.03039111 -0.53011465]\n",
            " [-0.26425385 -0.39394012 -0.17774487  0.52569956]\n",
            " [-0.5754715  -0.666224    0.12761454 -0.18463595]\n",
            " [-0.9779533  -0.6311813   0.818969    0.1169072 ]\n",
            " [-0.21336433  0.63465536 -0.2656139  -0.52830386]\n",
            " [ 0.24854095  0.49465972  0.03039111 -0.53011465]\n",
            " [ 0.1225443  -0.11145852 -0.37519047  0.6560355 ]\n",
            " [ 0.69775164 -0.19064797 -0.97839147  0.19655545]\n",
            " [-0.9779533  -0.6311813   0.818969    0.1169072 ]\n",
            " [ 0.24854095  0.49465972  0.03039111 -0.53011465]], shape=(10, 4), dtype=float32)\n"
          ]
        }
      ]
    },
    {
      "cell_type": "markdown",
      "metadata": {
        "id": "_k-SekdXu6M6"
      },
      "source": [
        "### Hashed feature columns\n",
        "\n",
        "Another way to represent a categorical column with a large number of values is to use a [categorical_column_with_hash_bucket](https://www.tensorflow.org/api_docs/python/tf/feature_column/categorical_column_with_hash_bucket). This feature column calculates a hash value of the input, then selects one of the `hash_bucket_size` buckets to encode a string. When using this column, you do not need to provide the vocabulary, and you can choose to make the number of hash_buckets significantly smaller than the number of actual categories to save space.\n",
        "\n",
        "Key point: An important downside of this technique is that there may be collisions in which different strings are mapped to the same bucket. In practice, this can work well for some datasets regardless."
      ]
    },
    {
      "cell_type": "code",
      "metadata": {
        "id": "05OX5LKgb6O9",
        "outputId": "7a4cf824-4392-416f-98e3-f78c5b466f3b",
        "colab": {
          "base_uri": "https://localhost:8080/"
        }
      },
      "source": [
        "point_hashed = feature_column.categorical_column_with_hash_bucket(\n",
        "      'point', hash_bucket_size=4)\n",
        "demo(feature_column.indicator_column(point_hashed))"
      ],
      "execution_count": 15,
      "outputs": [
        {
          "output_type": "stream",
          "name": "stdout",
          "text": [
            "[[1. 0. 0. 0.]\n",
            " [1. 0. 0. 0.]\n",
            " [0. 1. 0. 0.]\n",
            " [0. 0. 0. 1.]\n",
            " [0. 0. 1. 0.]\n",
            " [1. 0. 0. 0.]\n",
            " [0. 0. 0. 1.]\n",
            " [1. 0. 0. 0.]\n",
            " [0. 0. 0. 1.]\n",
            " [1. 0. 0. 0.]]\n"
          ]
        }
      ]
    },
    {
      "cell_type": "markdown",
      "metadata": {
        "id": "OBSuelh0zjOS"
      },
      "source": [
        "At this point, you might rightfully think: \"This is crazy!\" After all, we are forcing the different input values to a smaller set of categories. This means that two probably unrelated inputs will be mapped to the same category, and consequently mean the same thing to the neural network. The following figure illustrates this dilemma, showing that kitchenware and sports both get assigned to category (hash bucket) 12:\n",
        "\n",
        "![alt text](https://www.tensorflow.org/images/feature_columns/hashed_column.jpg)\n",
        "Representing data with hash buckets. \n",
        "\n",
        "As with many counterintuitive phenomena in machine learning, it turns out that hashing often works well in practice. That's because hash categories provide the model with some separation. The model can use additional features to further separate kitchenware from sports."
      ]
    },
    {
      "cell_type": "markdown",
      "metadata": {
        "id": "E6nW2Ffkzxjn"
      },
      "source": [
        "### Crossed feature columns\n",
        "Combining features into a single feature, better known as [feature crosses](https://developers.google.com/machine-learning/glossary/#feature_cross), enables a model to learn separate weights for each combination of features. Here, we will create a new feature that is the cross of marks and age. Note that `crossed_column` does not build the full table of all possible combinations (which could be very large). Instead, it is backed by a `hashed_column`, so you can choose how large the table is.\n",
        "\n",
        "Combining features into a single feature, better known as feature crosses, enables the model to learn separate weights for each combination of features.\n",
        "\n",
        "More concretely, suppose we want our model to calculate real estate prices in Atlanta, GA. Real-estate prices within this city vary greatly depending on location. Representing latitude and longitude as separate features isn't very useful in identifying real-estate location dependencies; however, crossing latitude and longitude into a single feature can pinpoint locations. Suppose we represent Atlanta as a grid of 100x100 rectangular sections, identifying each of the 10,000 sections by a feature cross of latitude and longitude. This feature cross enables the model to train on pricing conditions related to each individual section, which is a much stronger signal than latitude and longitude alone.\n",
        "\n",
        "The following figure shows our plan, with the latitude & longitude values for the corners of the city in red text:\n",
        "\n",
        "![alt text](https://www.tensorflow.org/images/feature_columns/Atlanta.jpg)\n",
        "\n",
        "Map of Atlanta. Imagine this map divided into 10,000 sections of equal size. \n",
        "\n"
      ]
    },
    {
      "cell_type": "code",
      "metadata": {
        "id": "9WtVFBQTcWa0",
        "outputId": "8a8a95a9-3277-4aec-f9c1-1f8587099f15",
        "colab": {
          "base_uri": "https://localhost:8080/"
        }
      },
      "source": [
        "crossed_feature = feature_column.crossed_column([marks_buckets, grade], hash_bucket_size=10)\n",
        "demo(feature_column.indicator_column(crossed_feature))"
      ],
      "execution_count": 16,
      "outputs": [
        {
          "output_type": "stream",
          "name": "stdout",
          "text": [
            "[[0. 0. 0. 0. 0. 0. 0. 0. 1. 0.]\n",
            " [0. 0. 0. 0. 1. 0. 0. 0. 0. 0.]\n",
            " [0. 0. 0. 0. 1. 0. 0. 0. 0. 0.]\n",
            " [0. 0. 0. 0. 1. 0. 0. 0. 0. 0.]\n",
            " [1. 0. 0. 0. 0. 0. 0. 0. 0. 0.]\n",
            " [0. 0. 0. 0. 0. 0. 0. 0. 1. 0.]\n",
            " [0. 0. 0. 0. 0. 1. 0. 0. 0. 0.]\n",
            " [0. 0. 0. 0. 0. 0. 1. 0. 0. 0.]\n",
            " [0. 0. 0. 0. 1. 0. 0. 0. 0. 0.]\n",
            " [0. 0. 0. 0. 0. 0. 0. 0. 1. 0.]]\n"
          ]
        }
      ]
    }
  ]
}